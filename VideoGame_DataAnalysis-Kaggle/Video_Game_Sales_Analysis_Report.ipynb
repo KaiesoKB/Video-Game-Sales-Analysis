{
 "cells": [
  {
   "cell_type": "markdown",
   "id": "97c24de3-2852-4a4c-a99e-43309f43e7c8",
   "metadata": {},
   "source": [
    "# 1. Introduction"
   ]
  },
  {
   "cell_type": "markdown",
   "id": "ecac2072-21af-4c30-8d2f-b50bd21c9ced",
   "metadata": {},
   "source": [
    "Many fans and industry experts were taken aback when Xbox revealed in July 2025 that Helldivers 2, a game that had previously only been available on Playstation, would be available on Xbox systems. Shortly after, Sony announced a significant strategic change toward creating Playstation games for other platforms with a job posting for a 'Lead Director, Multi-Platform' position. \n",
    "\n",
    "These announcements piqued my interest as a gamer and aspiring data analyst. Exclusive games have long been a key component of the brand identities and hardware sales strategies of console manufacturers such as Sony, Microsoft, and Nintendo. However, as cross-platform releases and shared ecosystems became more popular, I began questioning whether exclusivity was still as advantageous as it once was.\n",
    "\n",
    "This query motivated me to investigate the VG Sales dataset on Kaggle in order to compare the sales performance of exclusive and multi-platform games. I sought to determine whether exclusivity still provides a competitive edge or whether releasing games on multiple platforms results in higher commercial success using data visualization and statistical analysis. \n",
    "The project aims to provide answers for questions such as:\n",
    "\n",
    "    * How do exclusive games perform compared to multi-platform games in terms of sales globally and regionally?\n",
    "    * Have multi-platform releases achieved higher total or average sales over time?\n",
    "    * Which genres and platforms benefit most from exclusivity versus wider release strategies? \n",
    "\n",
    "This project offers an evidence-based viewpoint on the shifting dynamics of exclusivity in the gaming industry by examining regional and worldwide sales trends, genre performance, and sales evolution over time. Beyond the results, it also shows how the entire data analytics process - from data cleaning and exploration to visualization and insight generation - can be applied to a practical, industry-relevant subject that combines gaming culture and business strategy. "
   ]
  },
  {
   "cell_type": "markdown",
   "id": "f7a43eb2-27f2-4c44-a65d-d9ecd491c9b8",
   "metadata": {},
   "source": [
    "# 2. Dataset Details"
   ]
  },
  {
   "cell_type": "markdown",
   "id": "c5c08ac7-6bb2-4725-b57b-75cd9a1c44e9",
   "metadata": {},
   "source": [
    "## Dataset Summary"
   ]
  },
  {
   "cell_type": "markdown",
   "id": "3c2c5013-90d6-4011-ac91-be87ca524b6e",
   "metadata": {},
   "source": [
    "This project uses the 'Video Game Sales Analyze' sourced from Kaggle - Willian Oliveira Gibin. \n",
    "The dataset provides sales information, release years, genres, publishers, and regional performance metrics for thousands of video games on various platforms. It provides a great starting point for investigating trends and patterns in the gaming sector, especially with regard to the impact of platform distribution and exclusivity on financial success. "
   ]
  },
  {
   "cell_type": "markdown",
   "id": "98b25bb7-85a2-4ebc-86ec-65790eab99cf",
   "metadata": {},
   "source": [
    "## Dataset Overview"
   ]
  },
  {
   "cell_type": "markdown",
   "id": "702b3cca-bf88-4238-bc2e-1fe56a70d0c9",
   "metadata": {},
   "source": [
    "The dataset contains 16,698 records and 11 columns, with each row representing various details and sales performance on videogame titles with over 100,000 sold copies.\n",
    "    \n",
    "| Column Name | Description |\n",
    "|:------------|:------------|\n",
    "| Rank | Global ranking of the video game based on total sales |\n",
    "| Name | Title of the video game |\n",
    "| Platform | The console that the video game was release on |\n",
    "| Year | The year that the video game was released |\n",
    "| Genre | The category of the video game that describes its gameplay characteristics |\n",
    "| Publisher | The company responsible for releasing the videogame |\n",
    "| NA_Sales | Total sales in North America (in millions) | \n",
    "| EU_Sales | Total sales in Europe (in millions) | \n",
    "| JP_Sales | Total sales in Japan (in millions) | \n",
    "| Other_Sales | Total sales in Other regions (in millions) | \n",
    "| Global_Sales | Total Worldwide sales in all regions (in millions) | "
   ]
  },
  {
   "cell_type": "markdown",
   "id": "d36edacb-44db-4d88-8109-78ec52086adf",
   "metadata": {},
   "source": [
    "## Dataset Source"
   ]
  },
  {
   "cell_type": "markdown",
   "id": "152a69b2-9ef0-444f-9e58-ad0d3ac4a0ae",
   "metadata": {},
   "source": [
    "Source: [Kaggle - Video Game Sales Analyze](https://www.kaggle.com/datasets/willianoliveiragibin/video-game-sales-analyze)  \n",
    "License: [CC0: Public Domain](https://creativecommons.org/publicdomain/zero/1.0/)"
   ]
  },
  {
   "cell_type": "markdown",
   "id": "e709aed0-f1de-4faf-8e60-78252197c6c3",
   "metadata": {},
   "source": [
    "## Data Preparation"
   ]
  },
  {
   "cell_type": "markdown",
   "id": "944226ca-7306-43b1-8767-a5240ac26dd8",
   "metadata": {},
   "source": [
    "To guarantee accuracy and consistency, I carried out a number of data cleaning and preprocessing procedures prior to starting the analysis:\n",
    "\n",
    "* Using functions like 'shape', 'info()', and 'head()', I explored the dataset's structure to comprehend the types of columns and it's general makeup.\n",
    "* To preserve the quality of the data, duplicate records and missing values were identified.\n",
    "* Video games with missing years were dropped as they were a negligible amount of the entire dataset. \n",
    "* Global_Sales values were checked to make sure they summated to the total of all regional sales columns (NA_Sales, EU_Sales, JP_Sales, Other_Sales).\n",
    "* Any Global_Sales values that were found to be erroneous, were replaced with precisely calculated totals.\n",
    "* Platform names with substantially low frequency were standardized and grouped.\n",
    "* Key columns such as 'Genre', 'Year', 'Sales', 'Rank', 'Name', 'Publisher' were examined for mistakes or discrepancies.\n",
    "* Developed new features to determine if a video game was multi-platform (released on several platforms) or exclusive (released only on one platform).\n",
    "* To guarantee reproducibility and preserve a consistent basis for analysis and visualization, the cleaned dataset was saved as a new CSV file.\n",
    "\n",
    "All visuals and statistical analyses carried out for this project are based on this cleaned dataset, which enables insightful comparisons between exclusive and multi-platform games in terms of their sales performance over time, globally, and regionally. "
   ]
  },
  {
   "cell_type": "markdown",
   "id": "6e19cf24-3e66-48e8-a308-42c58fee2e40",
   "metadata": {},
   "source": [
    "# 3. Methodology"
   ]
  },
  {
   "cell_type": "markdown",
   "id": "8ea502d6-df6b-48a1-b7e4-542ea0bf1411",
   "metadata": {},
   "source": [
    "## Data Collection"
   ]
  },
  {
   "cell_type": "markdown",
   "id": "81e17683-45d6-400c-a9a2-cf132895b407",
   "metadata": {},
   "source": [
    "The dataset was acquired from Kaggle - Willian Oliveira Gibin's Video Game Sales Analyse.\n",
    "It includes comprehensive details about video games, such as Publisher, Platform, Genre, and Sales figures for each region and the world."
   ]
  },
  {
   "cell_type": "markdown",
   "id": "f28ba408-c5db-4792-88f1-7f3aebeb6b05",
   "metadata": {},
   "source": [
    "## Data Cleaning and Preparation"
   ]
  },
  {
   "cell_type": "markdown",
   "id": "999ab6ae-9a67-493c-b434-293e748bde4b",
   "metadata": {},
   "source": [
    "* Investigated the dataset's structure (shape, info(), and head()) in order to determine its makeup.\n",
    "* To preserve data accuracy, duplicate records and missing values were handled.\n",
    "* Global_Sales values were checked to make sure they added up to the total of all regional sales columns.\n",
    "* To make comparisons easier, platforms with very low frequency were standardized and grouped.\n",
    "* Identified any discrepancies in important columns like Publisher, Rank, Year, and Genre.\n",
    "* Created new features:\n",
    "    * Num_Platforms is the total number of platforms on which each game was made available.\n",
    "    * Exclusive is a binary indicator, where 0 indicates multi-platform and 1 indicates exclusive.\n",
    "* For reproducibility, the cleaned dataset was saved as a fresh CSV file. "
   ]
  },
  {
   "cell_type": "markdown",
   "id": "13ff4370-c029-4973-a9f5-431c6a20684d",
   "metadata": {},
   "source": [
    "## Exploratory Data Analysis (EDA)"
   ]
  },
  {
   "cell_type": "markdown",
   "id": "45376aa1-0e59-48b3-bc3b-8a1765ca6cb2",
   "metadata": {},
   "source": [
    "The purpose of the exploratory data analysis phase was to determine the differences in global and regional sales performance between exclusive and multi-platform games. Each analysis question was introduced through a guiding markdown cell, followed by relevant calculations, visualization and summary.\n",
    "The following crucial areas were used by the EDA to examine the dataset:"
   ]
  },
  {
   "cell_type": "markdown",
   "id": "6f7a4cda-c11b-4522-9f2a-ee346e97fad6",
   "metadata": {},
   "source": [
    "### Global Performance Comparison"
   ]
  },
  {
   "cell_type": "markdown",
   "id": "2117d3d1-3590-4802-9d66-3c5faac59875",
   "metadata": {},
   "source": [
    "* The average and total worldwide sales of exclusive and multi-platform games were compared.\n",
    "* Examined whether releasing a game across several platforms increases average of total worldwide sales.\n",
    "* To find broad trends, the global sales distribution across a variety of platforms was visualized."
   ]
  },
  {
   "cell_type": "markdown",
   "id": "faf2453f-a112-4898-a2cf-849637104aef",
   "metadata": {},
   "source": [
    "### Regional Sales Analysis"
   ]
  },
  {
   "cell_type": "markdown",
   "id": "743c9d4f-377d-4134-a322-e7b97ec22d59",
   "metadata": {},
   "source": [
    "* Evaluated the performance of exclusive and multi-platform games in North America, Europe, Japan and Other major regions (aggregated into one category labeled 'Other')\n",
    "* To determine regional preferences and market strengths, total and average sales by region were compared"
   ]
  },
  {
   "cell_type": "markdown",
   "id": "f76e25e1-9b5a-45e9-925a-bb0f13967583",
   "metadata": {},
   "source": [
    "### Platform Performance"
   ]
  },
  {
   "cell_type": "markdown",
   "id": "f6014f23-3729-4b73-96e1-d2b771c5499a",
   "metadata": {},
   "source": [
    "* Examined the performance of exclusive games on various gaming platforms\n",
    "* Determined which consoles profited most from exclusivity by analyzing both the average and total worldwide sales for each platform."
   ]
  },
  {
   "cell_type": "markdown",
   "id": "94457c5a-d847-4c13-919d-8037d0534a1f",
   "metadata": {},
   "source": [
    "### Sales Over Time"
   ]
  },
  {
   "cell_type": "markdown",
   "id": "9e8d1c0a-52ba-4be5-bee1-ff916269ceb2",
   "metadata": {},
   "source": [
    "* Examined patterns in regional and worldwide sales over time to comprehend how the performance of exclusive and multi-platform games changed over time.\n",
    "* Examined whether multi-platform releases have affected the success of popularity of exclusives"
   ]
  },
  {
   "cell_type": "markdown",
   "id": "5c21a9c9-3891-44d5-a03b-58b678d23956",
   "metadata": {},
   "source": [
    "### Genre Analysis"
   ]
  },
  {
   "cell_type": "markdown",
   "id": "ac743ccb-f673-48b5-ab32-bd9728e6dc1c",
   "metadata": {},
   "source": [
    "* Examined average and total sales by genre on a regional and worldwide scale.\n",
    "* Determined which genres sold the most overall in each area.\n",
    "* Investigated the evolution of genre popularity and how performance changed over time.\n",
    "* Found long-term trends by comparing the worldwide sales of exclusives versus multi-platform games in each genre over time."
   ]
  },
  {
   "cell_type": "markdown",
   "id": "1240abf6-39ef-4d25-ae97-ee0fc7ca72f3",
   "metadata": {},
   "source": [
    "Clear comparisons and data-driven storytelling were made possible by visualizations produced for each of these analyses using Matplotlib and Seaborn."
   ]
  },
  {
   "cell_type": "markdown",
   "id": "62fd616b-1958-47df-a3b4-53b9327c942a",
   "metadata": {},
   "source": [
    "## Interpretation and Insights"
   ]
  },
  {
   "cell_type": "markdown",
   "id": "8cc3096f-07d6-4fbd-83dc-a2a885a159c5",
   "metadata": {},
   "source": [
    "Summarized findings beneath each visualization using the framework:\n",
    "\n",
    "    * Observation: What the graph displays.\n",
    "    * Interpretation: The conclusions drawn from the data displayed.\n",
    "    * Insight: The practical information that can be applied based on the existing data.\n",
    "\n",
    "Compiled insights to ascertain whether multi-platform games typically see greater sales both regionally and globally. "
   ]
  },
  {
   "cell_type": "markdown",
   "id": "bebfc4c6-bc62-4eb0-983a-1626fa3ea299",
   "metadata": {},
   "source": [
    "# 4. Key Insights and Findings\n",
    "\n",
    "Several important insights into the performance of exclusive and multi-platform games on a global, regional, genre, and temporal scale were uncovered by the analysis"
   ]
  },
  {
   "cell_type": "markdown",
   "id": "616f8733-1b9d-401d-87fd-96e809ab56bd",
   "metadata": {},
   "source": [
    "## Global Sales Performance\n",
    "* With $387.64 million more in total sales and an average of 1.2 million more sales per game than exclusives, multi-platform games outperform exclusives in terms of global performance.\n",
    "* The commercial benefit of wider platform availability is confirmed by the fact that multi-platform releases routinely outperform exclusives on a per-game basis, even though the total number of exclusive titles is higher (which accounts for their high cumulative totals)."
   ]
  },
  {
   "cell_type": "markdown",
   "id": "b5cb761e-a070-444b-9ac5-caa8f60e16f2",
   "metadata": {},
   "source": [
    "## Platform Reach and Sales Distribution\n",
    "* Due to sheer volume, exclusive games produce the highest cumulative total sales.\n",
    "* As the number of platforms increase, average sales per game rises sharply; games released on 10 platforms averaged over $14 million.\n",
    "* This illustrates that, even in the event that the overall number of releases decreases, increasing platform reach increases sales efficiency."
   ]
  },
  {
   "cell_type": "markdown",
   "id": "b4d8ad38-9e3b-4cab-bc38-a1b54be80cd7",
   "metadata": {},
   "source": [
    "## Regional Performance\n",
    "* With the exception of Japan, where exclusives performed significantly better, multi-platform games saw increases in sales in every region.\n",
    "* Strong brand loyalty and a cultural predilection for exclusive games, especially Nintendo franchises, are evident in the Japanese market.\n",
    "* Multi-platform releases predominate in other important markets (North America and Europe), demonstrating the widespread desire for accessibility and cross-platform availability."
   ]
  },
  {
   "cell_type": "markdown",
   "id": "aef314ba-54af-4d53-821d-4cb378d5d89e",
   "metadata": {},
   "source": [
    "## Platform-Specific Insights\n",
    "* With platforms like the DS, Wii, and GameBoy contributing the highest total and average exclusive game sales, Nintendo dominates the exclusive market.\n",
    "* With franchises like Mario, Zelda, and Pokemon driving sales, Nintendo's success demonstrated the value of strong-first party intellectual property and brand-driven exclusivity."
   ]
  },
  {
   "cell_type": "markdown",
   "id": "7e8001b0-e34b-4e81-922b-c3c1c3258817",
   "metadata": {},
   "source": [
    "## Sales Trends Over Time\n",
    "* Up until the early 2000s, exclusive games dominated the global sales due to Nintendo's hegemony.\n",
    "* However, momentum was altered by the emergence of Microsoft and Sony platforms and cross-platform engines; by 2008, multi-platform games were the main source of all worldwide sales.\n",
    "* Multi-platform accessibility increased in profitability over time, but exclusive releases are still essential for console identity and brand loyalty."
   ]
  },
  {
   "cell_type": "markdown",
   "id": "4078e08d-284e-4d6e-897c-5d5112acd145",
   "metadata": {},
   "source": [
    "## Regional Trends Over Time\n",
    "* With the exception of Japan, multi-platform games surpassed exclusives in total regional sales starting in 2001.\n",
    "* North America peaked in 2008 and continued to lead in both average and total sales.\n",
    "* The fact that the Japanese market continues to be the most devoted to exclusives supports the idea that regional performance is influenced by cultural and brand factors."
   ]
  },
  {
   "cell_type": "markdown",
   "id": "b52783f4-5671-4dcb-b901-5ac09b42fa7b",
   "metadata": {},
   "source": [
    "## Genre Performance\n",
    "* Due to their widespread appeal and well-known franchises like Grand Theft Auto, Call of Duty, and FIFA; action, sports, and shooter games have the highest worldwide sales.\n",
    "* Because of their accessible gameplay and strong franchise identities, platformers and shooters have the highest average sales per game.\n",
    "* Role-playing games are very popular in Japan, where there is a strong cultural preference for character-driven, story-driven games like Final Fantasy and Dragon Quest.\n",
    "* Although they produce smaller totals, niche genres (such as strategy, puzzle, and simulation) retain devoted fan bases and present chances for targeted market positioning."
   ]
  },
  {
   "cell_type": "markdown",
   "id": "b415696c-e28a-4e72-95a4-9dc8956a693e",
   "metadata": {},
   "source": [
    "## Genre Performance Over Time\n",
    "* Early 1980s sales booms were driven by shooter and platform games; action and sports games took over in the 2000s.\n",
    "* The cyclical nature of genre popularity is highlighted by the correlation between genre growth patterns and the rise of iconic franchises and technological advancements.\n",
    "* In most genres, particularly mainstream ones, multi-platform releases perform better than exclusives; however, because of their console-specific fan bases, exclusives continue to have an advantage in the role-playing, platform, and simulation genres."
   ]
  },
  {
   "cell_type": "markdown",
   "id": "20ac91e1-42fe-4e10-9a5f-96dad8695146",
   "metadata": {},
   "source": [
    "## Strategic Implications\n",
    "* In contemporary markets, multi-platform tactics optimize reach and income, especially for genres with broad appeal.\n",
    "* Particularly in culturally different areas (like Japan) or genres with a lot of narrative (like role-playing games), exclusivity is still strategically useful for building platform loyalty.\n",
    "* Reach and brand identity can be maximized by having balanced portfolios that combine high quality exclusives with mass-market multi-platform titles."
   ]
  },
  {
   "cell_type": "markdown",
   "id": "f7ee16c1-35a3-4074-b555-85f81ecc45a8",
   "metadata": {},
   "source": [
    "# 5. Conclusion"
   ]
  },
  {
   "cell_type": "markdown",
   "id": "669f9da7-5e2c-41b5-b92a-73b31dd07e9d",
   "metadata": {},
   "source": [
    "This project examined the effects of exclusive versus multi-platform releases on video game sales over time, across genres, and both globally and regionally. According to the analysis, multi-platform genres typically perform better than exclusive ones, reaching a wider audience and generating higher average sales per game. However, in some settings, like Japan, and in genres like role-playing, platform, and simulation, where devoted fanbases are fueled by strong brand loyalty and iconic franchises, the value of exclusivity is still evident.\n",
    "\n",
    "Due in large part to Nintendo's dominance, exclusive games historically accounted for the majority of total sales in the early console era. On the other hand, multi-platform releases are preferred by current gaming trends, especially for mass-market genres like action, sports, and shooter games that gain from broad accessibility and well-known franchises. Despite having lower overall sales, niche genres offer chances to cultivate loyal fan bases through targeted development and calculated exclusivity.\n",
    "\n",
    "According to these results, a balanced approach is crucial, utilizing exclusives to build brand loyalty and cultural resonance in important markets while utilizing multi-platform releases to optimize revenue and reach. This strategy demonstrates how data-driven insights can guide platform strategy and maximize commercial results, and it is consistent with recent industry actions like Sony's distribution of PlayStation games to other platforms and the Xbox release of Helldivers 2.\n",
    "\n",
    "To summarize, this project offers practical advice for publishers thinking about multi-platform expansion, regional strategies, and genre-specific release planning in addition to providing an answer to the question of how exclusivity affects sales. "
   ]
  },
  {
   "cell_type": "markdown",
   "id": "e48d9781-b312-41f6-96f6-2ec565290f69",
   "metadata": {},
   "source": [
    "# 6. Tools & Libraries Used\n",
    "Python and a number of popular data analysis and visualization libraries within Python were used to carry out this project including:\n",
    "\n",
    "    * Pandas - for data manipulation, cleaning and aggregation.\n",
    "    * NumPy - for numerical operations and calculations.\n",
    "    * Matplotlib - for creating static visualizations to explore trends over time and across categories.\n",
    "    * Seaborn - for advanced visualizations, such as distributions, bar plots, and comparisons between game types.\n",
    "    * Jupyter Notebook - for interactive development of code to create visualizations, conduct calculations, and markdown documentation in a single report"
   ]
  },
  {
   "cell_type": "markdown",
   "id": "938fe0d1-9ca9-4dba-94af-cce9666058d1",
   "metadata": {},
   "source": [
    "# 7. Limitations & Future Work"
   ]
  },
  {
   "cell_type": "markdown",
   "id": "2f37ae1d-e25e-463c-be80-920667f35325",
   "metadata": {},
   "source": [
    "## Limitations\n",
    "* **Regional Coverage:** North America, Europe, Japan, and Other are the four major regions into which sales are aggregated; this may leave out smaller but important markets or more subtle market trends.\n",
    "* **Missing Contextual Factors:** A number of factors that can significantly affect game sales are absent from the dataset, including market budgets, user reviews, critical reception and franchise popularity.\n",
    "* **Temporal Restrictions:** Recent multi-platform tactics or exclusive releases are not included because sale trends after 2016 are not recorded."
   ]
  },
  {
   "cell_type": "markdown",
   "id": "d3157cec-a60d-4a8c-813a-2af7af6e7bb8",
   "metadata": {},
   "source": [
    "## Future Work\n",
    "* Incorporate marketing data, player engagement, and review scores to gain a deeper understanding of elements influencing sales outside of platform accessibility.\n",
    "* Investigate predictive modeling to project future sales according to market trends, exclusivity, genre, and platform\n",
    "* Investigate the enduring power of exclusives and cultural preferences by conducting region-specific analyses, especially in markets such as Japan."
   ]
  },
  {
   "cell_type": "markdown",
   "id": "500121b1-ef16-4022-b566-9fbb7f7dcaa0",
   "metadata": {},
   "source": [
    "# 8. References"
   ]
  },
  {
   "cell_type": "markdown",
   "id": "8c5a0c63-3d2a-4f94-8fdf-b1da093db7b2",
   "metadata": {},
   "source": [
    "## Dataset Source\n",
    "1. [Kaggle - Video Game Sales Analyze](https://www.kaggle.com/datasets/willianoliveiragibin/video-game-sales-analyze)"
   ]
  },
  {
   "cell_type": "markdown",
   "id": "a847e442-817d-4db7-af79-47f4eb8217eb",
   "metadata": {},
   "source": [
    "## Industry Articles\n",
    "2. [VGChartz - Job Listing Reveals PlayStation Studios Titles to Expand Across Xbox, Nintendo, Steam, Epic, and Mobile - News](https://www.vgchartz.com/article/465307/job-listing-reveals-playstation-studios-titles-to-expand-across-xbox-nintendo-steam-epic-and-mobile/)\n",
    "3. [Sony Job Boards](https://job-boards.greenhouse.io/sonyinteractiveentertainmentglobal?error=true)\n",
    "4. [Helldivers 2 is Coming to Xbox on August 26: Pre-Order Today](https://news.xbox.com/en-us/2025/07/03/helldivers-2-xbox-release-date-pre-order/)"
   ]
  },
  {
   "cell_type": "markdown",
   "id": "bee36389-69f3-4aaa-897d-982c5fd62f66",
   "metadata": {},
   "source": [
    "## Documentation Guides\n",
    "5. [Pandas dataframe.groupby() Method](https://www.geeksforgeeks.org/pandas/python-pandas-dataframe-groupby/)\n",
    "6. [matplotlib Quick start guide](https://matplotlib.org/stable/users/explain/quick_start.html)\n",
    "7. [Seaborn Choosing color palettes](https://seaborn.pydata.org/tutorial/color_palettes.html)"
   ]
  },
  {
   "cell_type": "code",
   "execution_count": null,
   "id": "ce8dc98e-80de-46ed-944d-595696721393",
   "metadata": {},
   "outputs": [],
   "source": []
  }
 ],
 "metadata": {
  "kernelspec": {
   "display_name": "Python 3 (ipykernel)",
   "language": "python",
   "name": "python3"
  },
  "language_info": {
   "codemirror_mode": {
    "name": "ipython",
    "version": 3
   },
   "file_extension": ".py",
   "mimetype": "text/x-python",
   "name": "python",
   "nbconvert_exporter": "python",
   "pygments_lexer": "ipython3",
   "version": "3.13.5"
  }
 },
 "nbformat": 4,
 "nbformat_minor": 5
}
