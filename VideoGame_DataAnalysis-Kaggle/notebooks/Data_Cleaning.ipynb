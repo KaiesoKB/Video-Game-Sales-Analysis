{
 "cells": [
  {
   "cell_type": "markdown",
   "id": "3d979b15-5800-4645-a59b-c782590d444d",
   "metadata": {},
   "source": [
    "# Data Exploration"
   ]
  },
  {
   "cell_type": "code",
   "execution_count": 1,
   "id": "3034c396-dd79-4d8f-a022-39aa7c297245",
   "metadata": {},
   "outputs": [],
   "source": [
    "import pandas as pd\n",
    "import numpy as np"
   ]
  },
  {
   "cell_type": "code",
   "execution_count": 2,
   "id": "796ac685-e2d9-4c9b-badd-b8427833b106",
   "metadata": {},
   "outputs": [],
   "source": [
    "df = pd.read_csv(\"vgsales.csv\",  header=0)"
   ]
  },
  {
   "cell_type": "code",
   "execution_count": 3,
   "id": "5a197b9e-784d-43c0-a3eb-d5c93859e9be",
   "metadata": {},
   "outputs": [
    {
     "name": "stdout",
     "output_type": "stream",
     "text": [
      "<class 'pandas.core.frame.DataFrame'>\n",
      "RangeIndex: 16598 entries, 0 to 16597\n",
      "Data columns (total 11 columns):\n",
      " #   Column        Non-Null Count  Dtype  \n",
      "---  ------        --------------  -----  \n",
      " 0   Rank          16598 non-null  int64  \n",
      " 1   Name          16598 non-null  object \n",
      " 2   Platform      16598 non-null  object \n",
      " 3   Year          16327 non-null  float64\n",
      " 4   Genre         16598 non-null  object \n",
      " 5   Publisher     16540 non-null  object \n",
      " 6   NA_Sales      16598 non-null  float64\n",
      " 7   EU_Sales      16598 non-null  float64\n",
      " 8   JP_Sales      16598 non-null  float64\n",
      " 9   Other_Sales   16598 non-null  float64\n",
      " 10  Global_Sales  16598 non-null  float64\n",
      "dtypes: float64(6), int64(1), object(4)\n",
      "memory usage: 1.4+ MB\n"
     ]
    }
   ],
   "source": [
    "df.info()"
   ]
  },
  {
   "cell_type": "code",
   "execution_count": 4,
   "id": "26c9d384-d9cd-4540-b8c4-47e7402499b2",
   "metadata": {},
   "outputs": [
    {
     "data": {
      "text/plain": [
       "(16598, 11)"
      ]
     },
     "execution_count": 4,
     "metadata": {},
     "output_type": "execute_result"
    }
   ],
   "source": [
    "df.shape"
   ]
  },
  {
   "cell_type": "code",
   "execution_count": 5,
   "id": "5013e9fc-17e8-4350-903d-334717e18b49",
   "metadata": {
    "scrolled": true
   },
   "outputs": [
    {
     "data": {
      "text/html": [
       "<div>\n",
       "<style scoped>\n",
       "    .dataframe tbody tr th:only-of-type {\n",
       "        vertical-align: middle;\n",
       "    }\n",
       "\n",
       "    .dataframe tbody tr th {\n",
       "        vertical-align: top;\n",
       "    }\n",
       "\n",
       "    .dataframe thead th {\n",
       "        text-align: right;\n",
       "    }\n",
       "</style>\n",
       "<table border=\"1\" class=\"dataframe\">\n",
       "  <thead>\n",
       "    <tr style=\"text-align: right;\">\n",
       "      <th></th>\n",
       "      <th>Rank</th>\n",
       "      <th>Name</th>\n",
       "      <th>Platform</th>\n",
       "      <th>Year</th>\n",
       "      <th>Genre</th>\n",
       "      <th>Publisher</th>\n",
       "      <th>NA_Sales</th>\n",
       "      <th>EU_Sales</th>\n",
       "      <th>JP_Sales</th>\n",
       "      <th>Other_Sales</th>\n",
       "      <th>Global_Sales</th>\n",
       "    </tr>\n",
       "  </thead>\n",
       "  <tbody>\n",
       "    <tr>\n",
       "      <th>0</th>\n",
       "      <td>259</td>\n",
       "      <td>Asteroids</td>\n",
       "      <td>2600</td>\n",
       "      <td>1980.0</td>\n",
       "      <td>Shooter</td>\n",
       "      <td>Atari</td>\n",
       "      <td>4.00</td>\n",
       "      <td>0.26</td>\n",
       "      <td>0.0</td>\n",
       "      <td>0.05</td>\n",
       "      <td>4.31</td>\n",
       "    </tr>\n",
       "    <tr>\n",
       "      <th>1</th>\n",
       "      <td>545</td>\n",
       "      <td>Missile Command</td>\n",
       "      <td>2600</td>\n",
       "      <td>1980.0</td>\n",
       "      <td>Shooter</td>\n",
       "      <td>Atari</td>\n",
       "      <td>2.56</td>\n",
       "      <td>0.17</td>\n",
       "      <td>0.0</td>\n",
       "      <td>0.03</td>\n",
       "      <td>2.76</td>\n",
       "    </tr>\n",
       "    <tr>\n",
       "      <th>2</th>\n",
       "      <td>1768</td>\n",
       "      <td>Kaboom!</td>\n",
       "      <td>2600</td>\n",
       "      <td>1980.0</td>\n",
       "      <td>Misc</td>\n",
       "      <td>Activision</td>\n",
       "      <td>1.07</td>\n",
       "      <td>0.07</td>\n",
       "      <td>0.0</td>\n",
       "      <td>0.01</td>\n",
       "      <td>1.15</td>\n",
       "    </tr>\n",
       "    <tr>\n",
       "      <th>3</th>\n",
       "      <td>1971</td>\n",
       "      <td>Defender</td>\n",
       "      <td>2600</td>\n",
       "      <td>1980.0</td>\n",
       "      <td>Misc</td>\n",
       "      <td>Atari</td>\n",
       "      <td>0.99</td>\n",
       "      <td>0.05</td>\n",
       "      <td>0.0</td>\n",
       "      <td>0.01</td>\n",
       "      <td>1.05</td>\n",
       "    </tr>\n",
       "    <tr>\n",
       "      <th>4</th>\n",
       "      <td>2671</td>\n",
       "      <td>Boxing</td>\n",
       "      <td>2600</td>\n",
       "      <td>1980.0</td>\n",
       "      <td>Fighting</td>\n",
       "      <td>Activision</td>\n",
       "      <td>0.72</td>\n",
       "      <td>0.04</td>\n",
       "      <td>0.0</td>\n",
       "      <td>0.01</td>\n",
       "      <td>0.77</td>\n",
       "    </tr>\n",
       "  </tbody>\n",
       "</table>\n",
       "</div>"
      ],
      "text/plain": [
       "   Rank             Name Platform    Year     Genre   Publisher  NA_Sales  \\\n",
       "0   259        Asteroids     2600  1980.0   Shooter       Atari      4.00   \n",
       "1   545  Missile Command     2600  1980.0   Shooter       Atari      2.56   \n",
       "2  1768          Kaboom!     2600  1980.0      Misc  Activision      1.07   \n",
       "3  1971         Defender     2600  1980.0      Misc       Atari      0.99   \n",
       "4  2671           Boxing     2600  1980.0  Fighting  Activision      0.72   \n",
       "\n",
       "   EU_Sales  JP_Sales  Other_Sales  Global_Sales  \n",
       "0      0.26       0.0         0.05          4.31  \n",
       "1      0.17       0.0         0.03          2.76  \n",
       "2      0.07       0.0         0.01          1.15  \n",
       "3      0.05       0.0         0.01          1.05  \n",
       "4      0.04       0.0         0.01          0.77  "
      ]
     },
     "execution_count": 5,
     "metadata": {},
     "output_type": "execute_result"
    }
   ],
   "source": [
    "df.head()"
   ]
  },
  {
   "cell_type": "code",
   "execution_count": 6,
   "id": "d291d72c-67d9-4f2b-9bf8-8cd0b14addf2",
   "metadata": {},
   "outputs": [
    {
     "name": "stdout",
     "output_type": "stream",
     "text": [
      "7 \n",
      " Index(['Rank', 'Year', 'NA_Sales', 'EU_Sales', 'JP_Sales', 'Other_Sales',\n",
      "       'Global_Sales'],\n",
      "      dtype='object')\n"
     ]
    }
   ],
   "source": [
    "numeric_cols = df.select_dtypes(include = ['int64', 'float64']).columns\n",
    "print(len(numeric_cols),\"\\n\",numeric_cols)"
   ]
  },
  {
   "cell_type": "code",
   "execution_count": 7,
   "id": "2475f6b6-f802-4bd5-97ec-d3b0fdc644ab",
   "metadata": {},
   "outputs": [
    {
     "name": "stdout",
     "output_type": "stream",
     "text": [
      "4 \n",
      " Index(['Name', 'Platform', 'Genre', 'Publisher'], dtype='object')\n"
     ]
    }
   ],
   "source": [
    "object_cols = df.select_dtypes(include = 'object').columns\n",
    "print(len(object_cols),\"\\n\",object_cols)"
   ]
  },
  {
   "cell_type": "markdown",
   "id": "d921b559-363b-4b0e-aad5-1c582376b512",
   "metadata": {},
   "source": [
    "# Duplicate detection and removal"
   ]
  },
  {
   "cell_type": "code",
   "execution_count": 8,
   "id": "f807d4d2-e7c2-4595-bae6-705b78495bca",
   "metadata": {},
   "outputs": [
    {
     "name": "stdout",
     "output_type": "stream",
     "text": [
      "Number of duplicate rows: 0\n"
     ]
    }
   ],
   "source": [
    "num_duplicate_rows = df.duplicated().sum()\n",
    "print(\"Number of duplicate rows:\", num_duplicate_rows)"
   ]
  },
  {
   "cell_type": "markdown",
   "id": "3eeb2ccb-0a65-47a3-ab6a-d648c9edc341",
   "metadata": {},
   "source": [
    "# Handling missing values"
   ]
  },
  {
   "cell_type": "markdown",
   "id": "7817361c-7124-485d-a1e0-7544529cae2a",
   "metadata": {},
   "source": [
    "## Object columns"
   ]
  },
  {
   "cell_type": "code",
   "execution_count": 9,
   "id": "7aa2d624-96ad-4047-aa33-22dcf8bc0ad1",
   "metadata": {
    "scrolled": true
   },
   "outputs": [
    {
     "name": "stdout",
     "output_type": "stream",
     "text": [
      "Total rows in df: 16598\n",
      "Column name: Name\n",
      "Total non null values in column: 16598\n",
      "Missing values in column: 0\n",
      "\n",
      "Column name: Platform\n",
      "Total non null values in column: 16598\n",
      "Missing values in column: 0\n",
      "\n",
      "Column name: Genre\n",
      "Total non null values in column: 16598\n",
      "Missing values in column: 0\n",
      "\n",
      "Column name: Publisher\n",
      "Total non null values in column: 16540\n",
      "Missing values in column: 58\n",
      "Percentage of column with missing values: 0.35066505441354295\n",
      "\n"
     ]
    }
   ],
   "source": [
    "print(f\"Total rows in df:\", len(df))\n",
    "for col in object_cols:\n",
    "    print(f\"Column name:\", col)\n",
    "    num_rows = df[col].notnull().sum()\n",
    "    print(f\"Total non null values in column:\", num_rows)\n",
    "    num_missing = df[col].isna().sum()\n",
    "    print(f\"Missing values in column:\", num_missing)\n",
    "    missing_pct = (num_missing/num_rows) * 100\n",
    "    if missing_pct > 0:\n",
    "        print(f\"Percentage of column with missing values:\", missing_pct)\n",
    "    print()"
   ]
  },
  {
   "cell_type": "code",
   "execution_count": 10,
   "id": "0f916507-9278-45f6-be8e-1aa827fda0c7",
   "metadata": {},
   "outputs": [
    {
     "data": {
      "text/plain": [
       "np.int64(0)"
      ]
     },
     "execution_count": 10,
     "metadata": {},
     "output_type": "execute_result"
    }
   ],
   "source": [
    "df.fillna({\"Publisher\": \"Unknown\"}, inplace = True)\n",
    "df[\"Publisher\"].isna().sum()"
   ]
  },
  {
   "cell_type": "markdown",
   "id": "582e9da4-2c48-4943-8615-b7e6a29fb504",
   "metadata": {},
   "source": [
    "## Numeric columns"
   ]
  },
  {
   "cell_type": "code",
   "execution_count": 11,
   "id": "57527ef0-c4ab-40d5-b800-13cfd9eebcba",
   "metadata": {},
   "outputs": [
    {
     "name": "stdout",
     "output_type": "stream",
     "text": [
      "Total rows in df: 16598\n",
      "Column name: Rank\n",
      "Total non null values in column: 16598\n",
      "Missing values in column: 0\n",
      "\n",
      "Column name: Year\n",
      "Total non null values in column: 16327\n",
      "Missing values in column: 271\n",
      "Percentage of column with missing values: 1.6598272799657012\n",
      "\n",
      "Column name: NA_Sales\n",
      "Total non null values in column: 16598\n",
      "Missing values in column: 0\n",
      "\n",
      "Column name: EU_Sales\n",
      "Total non null values in column: 16598\n",
      "Missing values in column: 0\n",
      "\n",
      "Column name: JP_Sales\n",
      "Total non null values in column: 16598\n",
      "Missing values in column: 0\n",
      "\n",
      "Column name: Other_Sales\n",
      "Total non null values in column: 16598\n",
      "Missing values in column: 0\n",
      "\n",
      "Column name: Global_Sales\n",
      "Total non null values in column: 16598\n",
      "Missing values in column: 0\n",
      "\n"
     ]
    }
   ],
   "source": [
    "print(f\"Total rows in df:\", len(df))\n",
    "for col in numeric_cols:\n",
    "    print(f\"Column name:\", col)\n",
    "    num_rows = df[col].notnull().sum()\n",
    "    print(f\"Total non null values in column:\", num_rows)\n",
    "    num_missing = df[col].isna().sum()\n",
    "    print(f\"Missing values in column:\", num_missing)\n",
    "    missing_pct = (num_missing/num_rows) * 100\n",
    "    if missing_pct > 0:\n",
    "        print(f\"Percentage of column with missing values:\", missing_pct)\n",
    "    print()"
   ]
  },
  {
   "cell_type": "code",
   "execution_count": 12,
   "id": "9cd6eb2d-95ae-48b0-a950-8f0ca4c3e9f2",
   "metadata": {},
   "outputs": [],
   "source": [
    "df = df.dropna(subset=[\"Year\"])\n",
    "df.reset_index(drop=True, inplace=True)"
   ]
  },
  {
   "cell_type": "code",
   "execution_count": 13,
   "id": "adf10eb0-82d3-4d37-95c4-ca2063b8bcaf",
   "metadata": {},
   "outputs": [],
   "source": [
    "df[\"Year\"] = df[\"Year\"].astype(int)"
   ]
  },
  {
   "cell_type": "code",
   "execution_count": 14,
   "id": "0616ad3f-7e56-40e4-b762-ae8a28f7b4b1",
   "metadata": {},
   "outputs": [
    {
     "data": {
      "text/plain": [
       "(16327, 11)"
      ]
     },
     "execution_count": 14,
     "metadata": {},
     "output_type": "execute_result"
    }
   ],
   "source": [
    "df.shape"
   ]
  },
  {
   "cell_type": "markdown",
   "id": "83cc8c97-99c2-425e-b77c-68c746662109",
   "metadata": {},
   "source": [
    "# Confirming accuracy of Global_Sales"
   ]
  },
  {
   "cell_type": "code",
   "execution_count": 15,
   "id": "bb9792eb-7f9b-4f1b-9e8e-141b24fb417c",
   "metadata": {},
   "outputs": [],
   "source": [
    "df[\"Calculated_Sales\"] = df[\"NA_Sales\"] + df[\"EU_Sales\"] + df[\"JP_Sales\"] + df[\"Other_Sales\"]"
   ]
  },
  {
   "cell_type": "code",
   "execution_count": 16,
   "id": "fd1bc374-7969-4447-90a9-53dd6cafa2db",
   "metadata": {},
   "outputs": [
    {
     "data": {
      "text/html": [
       "<div>\n",
       "<style scoped>\n",
       "    .dataframe tbody tr th:only-of-type {\n",
       "        vertical-align: middle;\n",
       "    }\n",
       "\n",
       "    .dataframe tbody tr th {\n",
       "        vertical-align: top;\n",
       "    }\n",
       "\n",
       "    .dataframe thead th {\n",
       "        text-align: right;\n",
       "    }\n",
       "</style>\n",
       "<table border=\"1\" class=\"dataframe\">\n",
       "  <thead>\n",
       "    <tr style=\"text-align: right;\">\n",
       "      <th></th>\n",
       "      <th>Rank</th>\n",
       "      <th>Name</th>\n",
       "      <th>Platform</th>\n",
       "      <th>Year</th>\n",
       "      <th>Genre</th>\n",
       "      <th>Publisher</th>\n",
       "      <th>NA_Sales</th>\n",
       "      <th>EU_Sales</th>\n",
       "      <th>JP_Sales</th>\n",
       "      <th>Other_Sales</th>\n",
       "      <th>Global_Sales</th>\n",
       "      <th>Calculated_Sales</th>\n",
       "    </tr>\n",
       "  </thead>\n",
       "  <tbody>\n",
       "    <tr>\n",
       "      <th>0</th>\n",
       "      <td>259</td>\n",
       "      <td>Asteroids</td>\n",
       "      <td>2600</td>\n",
       "      <td>1980</td>\n",
       "      <td>Shooter</td>\n",
       "      <td>Atari</td>\n",
       "      <td>4.00</td>\n",
       "      <td>0.26</td>\n",
       "      <td>0.0</td>\n",
       "      <td>0.05</td>\n",
       "      <td>4.31</td>\n",
       "      <td>4.31</td>\n",
       "    </tr>\n",
       "    <tr>\n",
       "      <th>1</th>\n",
       "      <td>545</td>\n",
       "      <td>Missile Command</td>\n",
       "      <td>2600</td>\n",
       "      <td>1980</td>\n",
       "      <td>Shooter</td>\n",
       "      <td>Atari</td>\n",
       "      <td>2.56</td>\n",
       "      <td>0.17</td>\n",
       "      <td>0.0</td>\n",
       "      <td>0.03</td>\n",
       "      <td>2.76</td>\n",
       "      <td>2.76</td>\n",
       "    </tr>\n",
       "    <tr>\n",
       "      <th>2</th>\n",
       "      <td>1768</td>\n",
       "      <td>Kaboom!</td>\n",
       "      <td>2600</td>\n",
       "      <td>1980</td>\n",
       "      <td>Misc</td>\n",
       "      <td>Activision</td>\n",
       "      <td>1.07</td>\n",
       "      <td>0.07</td>\n",
       "      <td>0.0</td>\n",
       "      <td>0.01</td>\n",
       "      <td>1.15</td>\n",
       "      <td>1.15</td>\n",
       "    </tr>\n",
       "    <tr>\n",
       "      <th>3</th>\n",
       "      <td>1971</td>\n",
       "      <td>Defender</td>\n",
       "      <td>2600</td>\n",
       "      <td>1980</td>\n",
       "      <td>Misc</td>\n",
       "      <td>Atari</td>\n",
       "      <td>0.99</td>\n",
       "      <td>0.05</td>\n",
       "      <td>0.0</td>\n",
       "      <td>0.01</td>\n",
       "      <td>1.05</td>\n",
       "      <td>1.05</td>\n",
       "    </tr>\n",
       "    <tr>\n",
       "      <th>4</th>\n",
       "      <td>2671</td>\n",
       "      <td>Boxing</td>\n",
       "      <td>2600</td>\n",
       "      <td>1980</td>\n",
       "      <td>Fighting</td>\n",
       "      <td>Activision</td>\n",
       "      <td>0.72</td>\n",
       "      <td>0.04</td>\n",
       "      <td>0.0</td>\n",
       "      <td>0.01</td>\n",
       "      <td>0.77</td>\n",
       "      <td>0.77</td>\n",
       "    </tr>\n",
       "  </tbody>\n",
       "</table>\n",
       "</div>"
      ],
      "text/plain": [
       "   Rank             Name Platform  Year     Genre   Publisher  NA_Sales  \\\n",
       "0   259        Asteroids     2600  1980   Shooter       Atari      4.00   \n",
       "1   545  Missile Command     2600  1980   Shooter       Atari      2.56   \n",
       "2  1768          Kaboom!     2600  1980      Misc  Activision      1.07   \n",
       "3  1971         Defender     2600  1980      Misc       Atari      0.99   \n",
       "4  2671           Boxing     2600  1980  Fighting  Activision      0.72   \n",
       "\n",
       "   EU_Sales  JP_Sales  Other_Sales  Global_Sales  Calculated_Sales  \n",
       "0      0.26       0.0         0.05          4.31              4.31  \n",
       "1      0.17       0.0         0.03          2.76              2.76  \n",
       "2      0.07       0.0         0.01          1.15              1.15  \n",
       "3      0.05       0.0         0.01          1.05              1.05  \n",
       "4      0.04       0.0         0.01          0.77              0.77  "
      ]
     },
     "execution_count": 16,
     "metadata": {},
     "output_type": "execute_result"
    }
   ],
   "source": [
    "df.head()"
   ]
  },
  {
   "cell_type": "markdown",
   "id": "7765fe3b-4524-4a61-a56e-303d7f713bad",
   "metadata": {},
   "source": [
    "## Identifying inaccurate Global_Sales values"
   ]
  },
  {
   "cell_type": "code",
   "execution_count": 17,
   "id": "df1b5ead-76f7-4e4c-8935-88ca06be05ac",
   "metadata": {},
   "outputs": [
    {
     "name": "stdout",
     "output_type": "stream",
     "text": [
      "                                 Name  Global_Sales  Calculated_Sales\n",
      "1259                         Tekken 3          7.16              7.18\n",
      "7453        Yu-Gi-Oh! GX: Tag Force 2          0.42              0.44\n",
      "7674                   Call of Juarez          0.19              0.17\n",
      "8426       Need For Speed: Undercover          1.40              1.42\n",
      "9765              Assassin's Creed II          5.27              5.25\n",
      "9972                              Wet          0.63              0.61\n",
      "12518         Need for Speed: The Run          1.38              1.36\n",
      "13639            Kid Icarus: Uprising          1.28              1.26\n",
      "14325                  Rocksmith 2014          1.00              0.98\n",
      "14992  One Piece: Unlimited World Red          0.30              0.32\n"
     ]
    }
   ],
   "source": [
    "mask = ~np.isclose(df[\"Global_Sales\"], df[\"Calculated_Sales\"], atol=0.01)\n",
    "df_updates = df.loc[mask, [\"Name\", \"Global_Sales\", \"Calculated_Sales\"]]\n",
    "print(df_updates)"
   ]
  },
  {
   "cell_type": "markdown",
   "id": "0e3bba26-7c5e-4dab-b3c7-0b62f0ec837e",
   "metadata": {},
   "source": [
    "## Overriding the wrong values with the accurately calculated ones"
   ]
  },
  {
   "cell_type": "code",
   "execution_count": 18,
   "id": "b681318c-ea45-49c3-9ba4-f6a8828b528e",
   "metadata": {},
   "outputs": [],
   "source": [
    "updated_idx = df.index[mask]\n",
    "df.loc[updated_idx, \"Global_Sales\"] = df.loc[updated_idx, \"Calculated_Sales\"]"
   ]
  },
  {
   "cell_type": "code",
   "execution_count": 19,
   "id": "d6eacfdd-362b-476d-be79-66194830b6c5",
   "metadata": {},
   "outputs": [
    {
     "name": "stdout",
     "output_type": "stream",
     "text": [
      "                                 Name  Global_Sales  Calculated_Sales\n",
      "1259                         Tekken 3          7.18              7.18\n",
      "7453        Yu-Gi-Oh! GX: Tag Force 2          0.44              0.44\n",
      "7674                   Call of Juarez          0.17              0.17\n",
      "8426       Need For Speed: Undercover          1.42              1.42\n",
      "9765              Assassin's Creed II          5.25              5.25\n",
      "9972                              Wet          0.61              0.61\n",
      "12518         Need for Speed: The Run          1.36              1.36\n",
      "13639            Kid Icarus: Uprising          1.26              1.26\n",
      "14325                  Rocksmith 2014          0.98              0.98\n",
      "14992  One Piece: Unlimited World Red          0.32              0.32\n"
     ]
    }
   ],
   "source": [
    "df_updates = df.loc[updated_idx, [\"Name\", \"Global_Sales\", \"Calculated_Sales\"]]\n",
    "print(df_updates)"
   ]
  },
  {
   "cell_type": "code",
   "execution_count": 20,
   "id": "79232670-a546-4815-b448-6e293a195a81",
   "metadata": {},
   "outputs": [],
   "source": [
    "df.drop(columns=[\"Calculated_Sales\"], inplace=True)"
   ]
  },
  {
   "cell_type": "code",
   "execution_count": 21,
   "id": "529c4e70-d44f-4c8a-925e-8449d7015ca2",
   "metadata": {},
   "outputs": [
    {
     "name": "stdout",
     "output_type": "stream",
     "text": [
      "                                 Name  Global_Sales  NA_Sales  EU_Sales  \\\n",
      "1259                         Tekken 3          7.18      3.27      2.22   \n",
      "7453        Yu-Gi-Oh! GX: Tag Force 2          0.44      0.03      0.20   \n",
      "7674                   Call of Juarez          0.17      0.14      0.02   \n",
      "8426       Need For Speed: Undercover          1.42      0.38      0.08   \n",
      "9765              Assassin's Creed II          5.25      3.10      1.56   \n",
      "9972                              Wet          0.61      0.22      0.27   \n",
      "12518         Need for Speed: The Run          1.36      0.63      0.58   \n",
      "13639            Kid Icarus: Uprising          1.26      0.48      0.35   \n",
      "14325                  Rocksmith 2014          0.98      0.51      0.27   \n",
      "14992  One Piece: Unlimited World Red          0.32      0.09      0.12   \n",
      "\n",
      "       JP_Sales  Other_Sales  \n",
      "1259       1.40         0.29  \n",
      "7453       0.10         0.11  \n",
      "7674       0.00         0.01  \n",
      "8426       0.03         0.93  \n",
      "9765       0.08         0.51  \n",
      "9972       0.01         0.11  \n",
      "12518      0.00         0.15  \n",
      "13639      0.36         0.07  \n",
      "14325      0.05         0.15  \n",
      "14992      0.06         0.05  \n"
     ]
    }
   ],
   "source": [
    "#Confirming the changes were made\n",
    "print(df.loc[updated_idx, [\"Name\", \"Global_Sales\", \"NA_Sales\", \"EU_Sales\", \"JP_Sales\", \"Other_Sales\"]])"
   ]
  },
  {
   "cell_type": "markdown",
   "id": "251a4caf-c0a1-40b6-bdaf-db97d075f930",
   "metadata": {},
   "source": [
    "# Grouping Platforms with little frequency"
   ]
  },
  {
   "cell_type": "code",
   "execution_count": 22,
   "id": "271ff5d7-31d6-4f2b-aa7a-c17d8837427a",
   "metadata": {},
   "outputs": [
    {
     "name": "stdout",
     "output_type": "stream",
     "text": [
      "Platform\n",
      "DS      2133\n",
      "PS2     2127\n",
      "PS3     1304\n",
      "Wii     1290\n",
      "X360    1235\n",
      "PSP     1197\n",
      "PS      1189\n",
      "PC       943\n",
      "GBA      811\n",
      "XB       803\n",
      "GC       542\n",
      "3DS      500\n",
      "PSV      412\n",
      "PS4      336\n",
      "N64      316\n",
      "SNES     239\n",
      "XOne     213\n",
      "SAT      173\n",
      "WiiU     143\n",
      "2600     116\n",
      "NES       98\n",
      "GB        97\n",
      "DC        52\n",
      "GEN       27\n",
      "NG        12\n",
      "WS         6\n",
      "SCD        6\n",
      "3DO        3\n",
      "TG16       2\n",
      "GG         1\n",
      "PCFX       1\n",
      "Name: count, dtype: int64\n"
     ]
    }
   ],
   "source": [
    "platform_counts = df[\"Platform\"].value_counts()\n",
    "print(platform_counts)"
   ]
  },
  {
   "cell_type": "code",
   "execution_count": 23,
   "id": "3d0dbd92-e5ae-4531-96bf-578aae2031bd",
   "metadata": {},
   "outputs": [],
   "source": [
    "rare_platforms = platform_counts[platform_counts < 50].index\n",
    "df[\"Platform\"] = df[\"Platform\"].replace(rare_platforms, \"Other\")"
   ]
  },
  {
   "cell_type": "code",
   "execution_count": 24,
   "id": "9e616bc3-804d-4d17-8528-8bae725eaed3",
   "metadata": {},
   "outputs": [
    {
     "data": {
      "text/plain": [
       "Platform\n",
       "DS       2133\n",
       "PS2      2127\n",
       "PS3      1304\n",
       "Wii      1290\n",
       "X360     1235\n",
       "PSP      1197\n",
       "PS       1189\n",
       "PC        943\n",
       "GBA       811\n",
       "XB        803\n",
       "GC        542\n",
       "3DS       500\n",
       "PSV       412\n",
       "PS4       336\n",
       "N64       316\n",
       "SNES      239\n",
       "XOne      213\n",
       "SAT       173\n",
       "WiiU      143\n",
       "2600      116\n",
       "NES        98\n",
       "GB         97\n",
       "Other      58\n",
       "DC         52\n",
       "Name: count, dtype: int64"
      ]
     },
     "execution_count": 24,
     "metadata": {},
     "output_type": "execute_result"
    }
   ],
   "source": [
    "df[\"Platform\"].value_counts()"
   ]
  },
  {
   "cell_type": "markdown",
   "id": "3f4b9aaf-a447-4afb-8cfe-b513c7668481",
   "metadata": {},
   "source": [
    "# Identifying errors in Columns"
   ]
  },
  {
   "cell_type": "markdown",
   "id": "68335122-e21f-4874-a679-ec238decef7b",
   "metadata": {},
   "source": [
    "## Identifying errors in Genre column"
   ]
  },
  {
   "cell_type": "code",
   "execution_count": 25,
   "id": "44a315c4-96c5-4046-a302-6767574d03cb",
   "metadata": {},
   "outputs": [
    {
     "data": {
      "text/plain": [
       "Genre\n",
       "Action          3253\n",
       "Sports          2304\n",
       "Misc            1710\n",
       "Role-Playing    1471\n",
       "Shooter         1282\n",
       "Adventure       1276\n",
       "Racing          1226\n",
       "Platform         876\n",
       "Simulation       851\n",
       "Fighting         836\n",
       "Strategy         671\n",
       "Puzzle           571\n",
       "Name: count, dtype: int64"
      ]
     },
     "execution_count": 25,
     "metadata": {},
     "output_type": "execute_result"
    }
   ],
   "source": [
    "df[\"Genre\"].value_counts()"
   ]
  },
  {
   "cell_type": "markdown",
   "id": "e62aba46-0a5d-458e-803a-0fe23c9f6467",
   "metadata": {},
   "source": [
    "## Identifying errors in Year column"
   ]
  },
  {
   "cell_type": "code",
   "execution_count": 26,
   "id": "91468ada-3b88-470a-b072-efc888c167ef",
   "metadata": {},
   "outputs": [
    {
     "name": "stdout",
     "output_type": "stream",
     "text": [
      "0\n",
      "Empty DataFrame\n",
      "Columns: [Rank, Name, Platform, Year, Genre, Publisher, NA_Sales, EU_Sales, JP_Sales, Other_Sales, Global_Sales]\n",
      "Index: []\n"
     ]
    }
   ],
   "source": [
    "invalid_years = df[(df[\"Year\"] < 1970) | (df[\"Year\"] > 2025)]\n",
    "print(len(invalid_years))\n",
    "print(invalid_years)"
   ]
  },
  {
   "cell_type": "markdown",
   "id": "f8a8296d-30b9-4b72-b29b-dd9b9f7431a2",
   "metadata": {},
   "source": [
    "## Identifying errors in Sales columns"
   ]
  },
  {
   "cell_type": "code",
   "execution_count": 27,
   "id": "b3375043-14cb-4aed-af6e-b56d93a974ab",
   "metadata": {},
   "outputs": [
    {
     "name": "stdout",
     "output_type": "stream",
     "text": [
      "0\n",
      "Empty DataFrame\n",
      "Columns: [Rank, Name, Platform, Year, Genre, Publisher, NA_Sales, EU_Sales, JP_Sales, Other_Sales, Global_Sales]\n",
      "Index: []\n"
     ]
    }
   ],
   "source": [
    "invalid_sales = df[(df[[\"NA_Sales\",\"EU_Sales\",\"JP_Sales\",\"Other_Sales\",\"Global_Sales\"]] < 0).any(axis=1)]\n",
    "print(len(invalid_sales))\n",
    "print(invalid_sales)"
   ]
  },
  {
   "cell_type": "markdown",
   "id": "a0af82dc-577b-4ee9-adeb-47109f172344",
   "metadata": {},
   "source": [
    "## Identifying errors in Rank column"
   ]
  },
  {
   "cell_type": "code",
   "execution_count": 28,
   "id": "bc9bcdf3-a707-418f-8949-3b828754cb7d",
   "metadata": {},
   "outputs": [
    {
     "data": {
      "text/plain": [
       "16327"
      ]
     },
     "execution_count": 28,
     "metadata": {},
     "output_type": "execute_result"
    }
   ],
   "source": [
    "len(df)"
   ]
  },
  {
   "cell_type": "code",
   "execution_count": 29,
   "id": "d362fa32-bdd8-480f-b54a-7ca8045b709b",
   "metadata": {},
   "outputs": [
    {
     "data": {
      "text/plain": [
       "np.int64(16600)"
      ]
     },
     "execution_count": 29,
     "metadata": {},
     "output_type": "execute_result"
    }
   ],
   "source": [
    "df[\"Rank\"].max()"
   ]
  },
  {
   "cell_type": "code",
   "execution_count": 30,
   "id": "6e930ecb-6506-4e6f-8ebd-be347770e417",
   "metadata": {},
   "outputs": [
    {
     "data": {
      "text/plain": [
       "np.int64(1)"
      ]
     },
     "execution_count": 30,
     "metadata": {},
     "output_type": "execute_result"
    }
   ],
   "source": [
    "df[\"Rank\"].min()"
   ]
  },
  {
   "cell_type": "code",
   "execution_count": 31,
   "id": "6c3dd49d-741e-4673-b103-c099feaeb4c8",
   "metadata": {},
   "outputs": [
    {
     "data": {
      "text/plain": [
       "np.int64(0)"
      ]
     },
     "execution_count": 31,
     "metadata": {},
     "output_type": "execute_result"
    }
   ],
   "source": [
    "df[\"Rank\"].isna().sum()"
   ]
  },
  {
   "cell_type": "code",
   "execution_count": 32,
   "id": "0f283e96-a46c-4eba-842f-19543bbc1a26",
   "metadata": {},
   "outputs": [],
   "source": [
    "df[\"Rank\"] = df[\"Global_Sales\"].rank(ascending=False, method=\"first\").astype(int)"
   ]
  },
  {
   "cell_type": "code",
   "execution_count": 33,
   "id": "05dd62dc-6f6f-4f63-afee-081133933fa6",
   "metadata": {},
   "outputs": [
    {
     "data": {
      "text/plain": [
       "np.int64(16327)"
      ]
     },
     "execution_count": 33,
     "metadata": {},
     "output_type": "execute_result"
    }
   ],
   "source": [
    "df[\"Rank\"].max()"
   ]
  },
  {
   "cell_type": "code",
   "execution_count": 34,
   "id": "0c26ff14-f018-4065-b12a-8067f2724647",
   "metadata": {},
   "outputs": [
    {
     "data": {
      "text/plain": [
       "np.int64(1)"
      ]
     },
     "execution_count": 34,
     "metadata": {},
     "output_type": "execute_result"
    }
   ],
   "source": [
    "df[\"Rank\"].min()"
   ]
  },
  {
   "cell_type": "markdown",
   "id": "c3443fcf-006a-4b9b-bcae-f8764c53a932",
   "metadata": {},
   "source": [
    "## Identifying errors in Name column"
   ]
  },
  {
   "cell_type": "code",
   "execution_count": 35,
   "id": "71da2965-1aad-4d9f-99d3-8a7a4a8e3609",
   "metadata": {},
   "outputs": [
    {
     "data": {
      "text/plain": [
       "11360"
      ]
     },
     "execution_count": 35,
     "metadata": {},
     "output_type": "execute_result"
    }
   ],
   "source": [
    "df[\"Name\"].nunique()"
   ]
  },
  {
   "cell_type": "markdown",
   "id": "e3df070a-c00b-4f75-8e16-28798cb9c152",
   "metadata": {},
   "source": [
    "## Identifying errors in Publisher column"
   ]
  },
  {
   "cell_type": "code",
   "execution_count": 36,
   "id": "18b73865-efcc-4c1e-bf81-b248be1bcfd6",
   "metadata": {},
   "outputs": [
    {
     "data": {
      "text/plain": [
       "np.int64(0)"
      ]
     },
     "execution_count": 36,
     "metadata": {},
     "output_type": "execute_result"
    }
   ],
   "source": [
    "df[\"Publisher\"].isna().sum()"
   ]
  },
  {
   "cell_type": "code",
   "execution_count": 37,
   "id": "ad16ff58-80a9-47be-a26e-b5bb9666b33b",
   "metadata": {},
   "outputs": [
    {
     "data": {
      "text/plain": [
       "np.int64(16327)"
      ]
     },
     "execution_count": 37,
     "metadata": {},
     "output_type": "execute_result"
    }
   ],
   "source": [
    "df[\"Publisher\"].value_counts().sum()"
   ]
  },
  {
   "cell_type": "markdown",
   "id": "37e0fac5-cc54-405e-be29-8331e8c3579a",
   "metadata": {},
   "source": [
    "# Feature Engineering: Identifying Exclusive vs Multi-platform Games"
   ]
  },
  {
   "cell_type": "code",
   "execution_count": 38,
   "id": "9bbbc4ba-b4e3-4562-907a-083a9be313d7",
   "metadata": {},
   "outputs": [],
   "source": [
    "name_platform_counts = df.groupby(\"Name\")[\"Platform\"].nunique()\n",
    "df[\"Num_Platforms\"] = df[\"Name\"].map(name_platform_counts)"
   ]
  },
  {
   "cell_type": "code",
   "execution_count": 39,
   "id": "0ee6c690-e375-4383-a21a-58335e046178",
   "metadata": {},
   "outputs": [],
   "source": [
    "df[\"Exclusive\"] = (df[\"Num_Platforms\"] == 1).astype(int)"
   ]
  },
  {
   "cell_type": "markdown",
   "id": "7bb2ba09-45f7-43ff-bdb2-650bff5bad16",
   "metadata": {},
   "source": [
    "# Saving cleaned dataframe"
   ]
  },
  {
   "cell_type": "code",
   "execution_count": 40,
   "id": "ecb5b431-284a-4880-bb95-394976ede9f3",
   "metadata": {},
   "outputs": [
    {
     "data": {
      "text/html": [
       "<div>\n",
       "<style scoped>\n",
       "    .dataframe tbody tr th:only-of-type {\n",
       "        vertical-align: middle;\n",
       "    }\n",
       "\n",
       "    .dataframe tbody tr th {\n",
       "        vertical-align: top;\n",
       "    }\n",
       "\n",
       "    .dataframe thead th {\n",
       "        text-align: right;\n",
       "    }\n",
       "</style>\n",
       "<table border=\"1\" class=\"dataframe\">\n",
       "  <thead>\n",
       "    <tr style=\"text-align: right;\">\n",
       "      <th></th>\n",
       "      <th>Rank</th>\n",
       "      <th>Name</th>\n",
       "      <th>Platform</th>\n",
       "      <th>Year</th>\n",
       "      <th>Genre</th>\n",
       "      <th>Publisher</th>\n",
       "      <th>NA_Sales</th>\n",
       "      <th>EU_Sales</th>\n",
       "      <th>JP_Sales</th>\n",
       "      <th>Other_Sales</th>\n",
       "      <th>Global_Sales</th>\n",
       "      <th>Num_Platforms</th>\n",
       "      <th>Exclusive</th>\n",
       "    </tr>\n",
       "  </thead>\n",
       "  <tbody>\n",
       "    <tr>\n",
       "      <th>0</th>\n",
       "      <td>256</td>\n",
       "      <td>Asteroids</td>\n",
       "      <td>2600</td>\n",
       "      <td>1980</td>\n",
       "      <td>Shooter</td>\n",
       "      <td>Atari</td>\n",
       "      <td>4.00</td>\n",
       "      <td>0.26</td>\n",
       "      <td>0.0</td>\n",
       "      <td>0.05</td>\n",
       "      <td>4.31</td>\n",
       "      <td>2</td>\n",
       "      <td>0</td>\n",
       "    </tr>\n",
       "    <tr>\n",
       "      <th>1</th>\n",
       "      <td>541</td>\n",
       "      <td>Missile Command</td>\n",
       "      <td>2600</td>\n",
       "      <td>1980</td>\n",
       "      <td>Shooter</td>\n",
       "      <td>Atari</td>\n",
       "      <td>2.56</td>\n",
       "      <td>0.17</td>\n",
       "      <td>0.0</td>\n",
       "      <td>0.03</td>\n",
       "      <td>2.76</td>\n",
       "      <td>2</td>\n",
       "      <td>0</td>\n",
       "    </tr>\n",
       "    <tr>\n",
       "      <th>2</th>\n",
       "      <td>1743</td>\n",
       "      <td>Kaboom!</td>\n",
       "      <td>2600</td>\n",
       "      <td>1980</td>\n",
       "      <td>Misc</td>\n",
       "      <td>Activision</td>\n",
       "      <td>1.07</td>\n",
       "      <td>0.07</td>\n",
       "      <td>0.0</td>\n",
       "      <td>0.01</td>\n",
       "      <td>1.15</td>\n",
       "      <td>1</td>\n",
       "      <td>1</td>\n",
       "    </tr>\n",
       "    <tr>\n",
       "      <th>3</th>\n",
       "      <td>1945</td>\n",
       "      <td>Defender</td>\n",
       "      <td>2600</td>\n",
       "      <td>1980</td>\n",
       "      <td>Misc</td>\n",
       "      <td>Atari</td>\n",
       "      <td>0.99</td>\n",
       "      <td>0.05</td>\n",
       "      <td>0.0</td>\n",
       "      <td>0.01</td>\n",
       "      <td>1.05</td>\n",
       "      <td>4</td>\n",
       "      <td>0</td>\n",
       "    </tr>\n",
       "    <tr>\n",
       "      <th>4</th>\n",
       "      <td>2622</td>\n",
       "      <td>Boxing</td>\n",
       "      <td>2600</td>\n",
       "      <td>1980</td>\n",
       "      <td>Fighting</td>\n",
       "      <td>Activision</td>\n",
       "      <td>0.72</td>\n",
       "      <td>0.04</td>\n",
       "      <td>0.0</td>\n",
       "      <td>0.01</td>\n",
       "      <td>0.77</td>\n",
       "      <td>2</td>\n",
       "      <td>0</td>\n",
       "    </tr>\n",
       "  </tbody>\n",
       "</table>\n",
       "</div>"
      ],
      "text/plain": [
       "   Rank             Name Platform  Year     Genre   Publisher  NA_Sales  \\\n",
       "0   256        Asteroids     2600  1980   Shooter       Atari      4.00   \n",
       "1   541  Missile Command     2600  1980   Shooter       Atari      2.56   \n",
       "2  1743          Kaboom!     2600  1980      Misc  Activision      1.07   \n",
       "3  1945         Defender     2600  1980      Misc       Atari      0.99   \n",
       "4  2622           Boxing     2600  1980  Fighting  Activision      0.72   \n",
       "\n",
       "   EU_Sales  JP_Sales  Other_Sales  Global_Sales  Num_Platforms  Exclusive  \n",
       "0      0.26       0.0         0.05          4.31              2          0  \n",
       "1      0.17       0.0         0.03          2.76              2          0  \n",
       "2      0.07       0.0         0.01          1.15              1          1  \n",
       "3      0.05       0.0         0.01          1.05              4          0  \n",
       "4      0.04       0.0         0.01          0.77              2          0  "
      ]
     },
     "execution_count": 40,
     "metadata": {},
     "output_type": "execute_result"
    }
   ],
   "source": [
    "df.head()"
   ]
  },
  {
   "cell_type": "code",
   "execution_count": 41,
   "id": "edae71f5-5c46-4d28-8c13-645496d52d04",
   "metadata": {},
   "outputs": [
    {
     "data": {
      "text/plain": [
       "(16327, 13)"
      ]
     },
     "execution_count": 41,
     "metadata": {},
     "output_type": "execute_result"
    }
   ],
   "source": [
    "df.shape"
   ]
  },
  {
   "cell_type": "code",
   "execution_count": 42,
   "id": "9cdc79c3-1183-46b2-a934-8f60af81d448",
   "metadata": {},
   "outputs": [
    {
     "name": "stdout",
     "output_type": "stream",
     "text": [
      "<class 'pandas.core.frame.DataFrame'>\n",
      "RangeIndex: 16327 entries, 0 to 16326\n",
      "Data columns (total 13 columns):\n",
      " #   Column         Non-Null Count  Dtype  \n",
      "---  ------         --------------  -----  \n",
      " 0   Rank           16327 non-null  int64  \n",
      " 1   Name           16327 non-null  object \n",
      " 2   Platform       16327 non-null  object \n",
      " 3   Year           16327 non-null  int64  \n",
      " 4   Genre          16327 non-null  object \n",
      " 5   Publisher      16327 non-null  object \n",
      " 6   NA_Sales       16327 non-null  float64\n",
      " 7   EU_Sales       16327 non-null  float64\n",
      " 8   JP_Sales       16327 non-null  float64\n",
      " 9   Other_Sales    16327 non-null  float64\n",
      " 10  Global_Sales   16327 non-null  float64\n",
      " 11  Num_Platforms  16327 non-null  int64  \n",
      " 12  Exclusive      16327 non-null  int64  \n",
      "dtypes: float64(5), int64(4), object(4)\n",
      "memory usage: 1.6+ MB\n"
     ]
    }
   ],
   "source": [
    "df.info()"
   ]
  },
  {
   "cell_type": "code",
   "execution_count": 43,
   "id": "bd10fcb5-c663-40d4-9fa4-e807a208dddf",
   "metadata": {},
   "outputs": [],
   "source": [
    "df.to_csv(\"vgsales_clean.csv\", index=False)"
   ]
  }
 ],
 "metadata": {
  "kernelspec": {
   "display_name": "Python 3 (ipykernel)",
   "language": "python",
   "name": "python3"
  },
  "language_info": {
   "codemirror_mode": {
    "name": "ipython",
    "version": 3
   },
   "file_extension": ".py",
   "mimetype": "text/x-python",
   "name": "python",
   "nbconvert_exporter": "python",
   "pygments_lexer": "ipython3",
   "version": "3.13.5"
  }
 },
 "nbformat": 4,
 "nbformat_minor": 5
}
